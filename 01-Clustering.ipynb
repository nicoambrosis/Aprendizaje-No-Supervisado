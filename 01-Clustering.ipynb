{
 "cells": [
  {
   "cell_type": "code",
   "execution_count": 6,
   "metadata": {},
   "outputs": [],
   "source": [
    "import numpy as np\n",
    "import pandas as np\n",
    "# pd.set_option('display.max_columns', 100)\n",
    "# pd.set_option('display.max_rows', 1000)\n",
    "import itertools\n",
    "import warnings\n",
    "warnings.filterwarnings('ignore')\n",
    "import io\n",
    "\n",
    "from plotly.offline import init_notebook_mode, plot, iplot\n",
    "import plotly.graph_objs as go\n",
    "# init_notebook_mode(connected=True)\n",
    "import matplotlib.pyplot as plt\n",
    "import plotly.tools as tls\n",
    "import plotly.figure_factory as ff\n",
    "import seaborn as sns"
   ]
  },
  {
   "cell_type": "markdown",
   "metadata": {},
   "source": [
    "# 1. Análisis exploratorio\n",
    "Cargamos los datos bajados de la database de [Kaggle](https://www.kaggle.com/karangadiya/fifa19) (https://www.kaggle.com/karangadiya/fifa19) como 'data.csv' "
   ]
  },
  {
   "cell_type": "code",
   "execution_count": 8,
   "metadata": {},
   "outputs": [
    {
     "data": {
      "text/html": [
       "<div>\n",
       "<style scoped>\n",
       "    .dataframe tbody tr th:only-of-type {\n",
       "        vertical-align: middle;\n",
       "    }\n",
       "\n",
       "    .dataframe tbody tr th {\n",
       "        vertical-align: top;\n",
       "    }\n",
       "\n",
       "    .dataframe thead th {\n",
       "        text-align: right;\n",
       "    }\n",
       "</style>\n",
       "<table border=\"1\" class=\"dataframe\">\n",
       "  <thead>\n",
       "    <tr style=\"text-align: right;\">\n",
       "      <th></th>\n",
       "      <th>ID</th>\n",
       "      <th>Name</th>\n",
       "      <th>Age</th>\n",
       "      <th>Photo</th>\n",
       "      <th>Nationality</th>\n",
       "      <th>Flag</th>\n",
       "      <th>Overall</th>\n",
       "      <th>Potential</th>\n",
       "      <th>Club</th>\n",
       "      <th>Club Logo</th>\n",
       "      <th>...</th>\n",
       "      <th>Composure</th>\n",
       "      <th>Marking</th>\n",
       "      <th>StandingTackle</th>\n",
       "      <th>SlidingTackle</th>\n",
       "      <th>GKDiving</th>\n",
       "      <th>GKHandling</th>\n",
       "      <th>GKKicking</th>\n",
       "      <th>GKPositioning</th>\n",
       "      <th>GKReflexes</th>\n",
       "      <th>Release Clause</th>\n",
       "    </tr>\n",
       "  </thead>\n",
       "  <tbody>\n",
       "    <tr>\n",
       "      <th>15711</th>\n",
       "      <td>233679</td>\n",
       "      <td>K. Yajima</td>\n",
       "      <td>23</td>\n",
       "      <td>https://cdn.sofifa.org/players/4/19/233679.png</td>\n",
       "      <td>Japan</td>\n",
       "      <td>https://cdn.sofifa.org/flags/163.png</td>\n",
       "      <td>59</td>\n",
       "      <td>67</td>\n",
       "      <td>FC Tokyo</td>\n",
       "      <td>https://cdn.sofifa.org/teams/2/light/101150.png</td>\n",
       "      <td>...</td>\n",
       "      <td>57.0</td>\n",
       "      <td>30.0</td>\n",
       "      <td>32.0</td>\n",
       "      <td>31.0</td>\n",
       "      <td>14.0</td>\n",
       "      <td>6.0</td>\n",
       "      <td>5.0</td>\n",
       "      <td>12.0</td>\n",
       "      <td>11.0</td>\n",
       "      <td>€334K</td>\n",
       "    </tr>\n",
       "    <tr>\n",
       "      <th>11559</th>\n",
       "      <td>244106</td>\n",
       "      <td>Pascu</td>\n",
       "      <td>18</td>\n",
       "      <td>https://cdn.sofifa.org/players/4/19/244106.png</td>\n",
       "      <td>Spain</td>\n",
       "      <td>https://cdn.sofifa.org/flags/45.png</td>\n",
       "      <td>64</td>\n",
       "      <td>82</td>\n",
       "      <td>Valencia CF</td>\n",
       "      <td>https://cdn.sofifa.org/teams/2/light/461.png</td>\n",
       "      <td>...</td>\n",
       "      <td>41.0</td>\n",
       "      <td>58.0</td>\n",
       "      <td>55.0</td>\n",
       "      <td>47.0</td>\n",
       "      <td>6.0</td>\n",
       "      <td>6.0</td>\n",
       "      <td>7.0</td>\n",
       "      <td>9.0</td>\n",
       "      <td>5.0</td>\n",
       "      <td>€2.5M</td>\n",
       "    </tr>\n",
       "    <tr>\n",
       "      <th>4592</th>\n",
       "      <td>177105</td>\n",
       "      <td>P. Ebert</td>\n",
       "      <td>31</td>\n",
       "      <td>https://cdn.sofifa.org/players/4/19/177105.png</td>\n",
       "      <td>Germany</td>\n",
       "      <td>https://cdn.sofifa.org/flags/21.png</td>\n",
       "      <td>71</td>\n",
       "      <td>71</td>\n",
       "      <td>SG Dynamo Dresden</td>\n",
       "      <td>https://cdn.sofifa.org/teams/2/light/503.png</td>\n",
       "      <td>...</td>\n",
       "      <td>58.0</td>\n",
       "      <td>61.0</td>\n",
       "      <td>55.0</td>\n",
       "      <td>49.0</td>\n",
       "      <td>14.0</td>\n",
       "      <td>6.0</td>\n",
       "      <td>9.0</td>\n",
       "      <td>15.0</td>\n",
       "      <td>8.0</td>\n",
       "      <td>€3.3M</td>\n",
       "    </tr>\n",
       "    <tr>\n",
       "      <th>2534</th>\n",
       "      <td>206553</td>\n",
       "      <td>S. Falette</td>\n",
       "      <td>26</td>\n",
       "      <td>https://cdn.sofifa.org/players/4/19/206553.png</td>\n",
       "      <td>Guinea</td>\n",
       "      <td>https://cdn.sofifa.org/flags/118.png</td>\n",
       "      <td>74</td>\n",
       "      <td>77</td>\n",
       "      <td>Eintracht Frankfurt</td>\n",
       "      <td>https://cdn.sofifa.org/teams/2/light/1824.png</td>\n",
       "      <td>...</td>\n",
       "      <td>67.0</td>\n",
       "      <td>68.0</td>\n",
       "      <td>75.0</td>\n",
       "      <td>69.0</td>\n",
       "      <td>10.0</td>\n",
       "      <td>13.0</td>\n",
       "      <td>13.0</td>\n",
       "      <td>10.0</td>\n",
       "      <td>9.0</td>\n",
       "      <td>€10.7M</td>\n",
       "    </tr>\n",
       "    <tr>\n",
       "      <th>7838</th>\n",
       "      <td>244266</td>\n",
       "      <td>L. Menalo</td>\n",
       "      <td>21</td>\n",
       "      <td>https://cdn.sofifa.org/players/4/19/244266.png</td>\n",
       "      <td>Bosnia Herzegovina</td>\n",
       "      <td>https://cdn.sofifa.org/flags/8.png</td>\n",
       "      <td>67</td>\n",
       "      <td>75</td>\n",
       "      <td>Dinamo Zagreb</td>\n",
       "      <td>https://cdn.sofifa.org/teams/2/light/211.png</td>\n",
       "      <td>...</td>\n",
       "      <td>52.0</td>\n",
       "      <td>27.0</td>\n",
       "      <td>22.0</td>\n",
       "      <td>23.0</td>\n",
       "      <td>6.0</td>\n",
       "      <td>11.0</td>\n",
       "      <td>8.0</td>\n",
       "      <td>9.0</td>\n",
       "      <td>15.0</td>\n",
       "      <td>€2.7M</td>\n",
       "    </tr>\n",
       "  </tbody>\n",
       "</table>\n",
       "<p>5 rows × 88 columns</p>\n",
       "</div>"
      ],
      "text/plain": [
       "           ID        Name  Age  \\\n",
       "15711  233679   K. Yajima   23   \n",
       "11559  244106       Pascu   18   \n",
       "4592   177105    P. Ebert   31   \n",
       "2534   206553  S. Falette   26   \n",
       "7838   244266   L. Menalo   21   \n",
       "\n",
       "                                                Photo         Nationality  \\\n",
       "15711  https://cdn.sofifa.org/players/4/19/233679.png               Japan   \n",
       "11559  https://cdn.sofifa.org/players/4/19/244106.png               Spain   \n",
       "4592   https://cdn.sofifa.org/players/4/19/177105.png             Germany   \n",
       "2534   https://cdn.sofifa.org/players/4/19/206553.png              Guinea   \n",
       "7838   https://cdn.sofifa.org/players/4/19/244266.png  Bosnia Herzegovina   \n",
       "\n",
       "                                       Flag  Overall  Potential  \\\n",
       "15711  https://cdn.sofifa.org/flags/163.png       59         67   \n",
       "11559   https://cdn.sofifa.org/flags/45.png       64         82   \n",
       "4592    https://cdn.sofifa.org/flags/21.png       71         71   \n",
       "2534   https://cdn.sofifa.org/flags/118.png       74         77   \n",
       "7838     https://cdn.sofifa.org/flags/8.png       67         75   \n",
       "\n",
       "                      Club                                        Club Logo  \\\n",
       "15711             FC Tokyo  https://cdn.sofifa.org/teams/2/light/101150.png   \n",
       "11559          Valencia CF     https://cdn.sofifa.org/teams/2/light/461.png   \n",
       "4592     SG Dynamo Dresden     https://cdn.sofifa.org/teams/2/light/503.png   \n",
       "2534   Eintracht Frankfurt    https://cdn.sofifa.org/teams/2/light/1824.png   \n",
       "7838         Dinamo Zagreb     https://cdn.sofifa.org/teams/2/light/211.png   \n",
       "\n",
       "       ... Composure Marking  StandingTackle SlidingTackle  GKDiving  \\\n",
       "15711  ...      57.0    30.0            32.0          31.0      14.0   \n",
       "11559  ...      41.0    58.0            55.0          47.0       6.0   \n",
       "4592   ...      58.0    61.0            55.0          49.0      14.0   \n",
       "2534   ...      67.0    68.0            75.0          69.0      10.0   \n",
       "7838   ...      52.0    27.0            22.0          23.0       6.0   \n",
       "\n",
       "       GKHandling  GKKicking GKPositioning GKReflexes Release Clause  \n",
       "15711         6.0        5.0          12.0       11.0          €334K  \n",
       "11559         6.0        7.0           9.0        5.0          €2.5M  \n",
       "4592          6.0        9.0          15.0        8.0          €3.3M  \n",
       "2534         13.0       13.0          10.0        9.0         €10.7M  \n",
       "7838         11.0        8.0           9.0       15.0          €2.7M  \n",
       "\n",
       "[5 rows x 88 columns]"
      ]
     },
     "execution_count": 8,
     "metadata": {},
     "output_type": "execute_result"
    }
   ],
   "source": [
    "url='https://raw.githubusercontent.com/DiploDatos/AprendizajeNOSupervisado/master/2021/data.csv'\n",
    "df = pd.read_csv(url, usecols=lambda x: x != 'Unnamed: 0')\n",
    "df.sample(5)"
   ]
  },
  {
   "cell_type": "code",
   "execution_count": 9,
   "metadata": {},
   "outputs": [
    {
     "data": {
      "text/plain": [
       "(18207, 88)"
      ]
     },
     "execution_count": 9,
     "metadata": {},
     "output_type": "execute_result"
    }
   ],
   "source": [
    "df.shape"
   ]
  },
  {
   "cell_type": "code",
   "execution_count": 11,
   "metadata": {},
   "outputs": [
    {
     "data": {
      "text/plain": [
       "Index(['ID', 'Name', 'Age', 'Photo', 'Nationality', 'Flag', 'Overall',\n",
       "       'Potential', 'Club', 'Club Logo', 'Value', 'Wage', 'Special',\n",
       "       'Preferred Foot', 'International Reputation', 'Weak Foot',\n",
       "       'Skill Moves', 'Work Rate', 'Body Type', 'Real Face', 'Position',\n",
       "       'Jersey Number', 'Joined', 'Loaned From', 'Contract Valid Until',\n",
       "       'Height', 'Weight', 'LS', 'ST', 'RS', 'LW', 'LF', 'CF', 'RF', 'RW',\n",
       "       'LAM', 'CAM', 'RAM', 'LM', 'LCM', 'CM', 'RCM', 'RM', 'LWB', 'LDM',\n",
       "       'CDM', 'RDM', 'RWB', 'LB', 'LCB', 'CB', 'RCB', 'RB', 'Crossing',\n",
       "       'Finishing', 'HeadingAccuracy', 'ShortPassing', 'Volleys', 'Dribbling',\n",
       "       'Curve', 'FKAccuracy', 'LongPassing', 'BallControl', 'Acceleration',\n",
       "       'SprintSpeed', 'Agility', 'Reactions', 'Balance', 'ShotPower',\n",
       "       'Jumping', 'Stamina', 'Strength', 'LongShots', 'Aggression',\n",
       "       'Interceptions', 'Positioning', 'Vision', 'Penalties', 'Composure',\n",
       "       'Marking', 'StandingTackle', 'SlidingTackle', 'GKDiving', 'GKHandling',\n",
       "       'GKKicking', 'GKPositioning', 'GKReflexes', 'Release Clause'],\n",
       "      dtype='object')"
      ]
     },
     "execution_count": 11,
     "metadata": {},
     "output_type": "execute_result"
    }
   ],
   "source": [
    "df.columns"
   ]
  },
  {
   "cell_type": "code",
   "execution_count": 18,
   "metadata": {},
   "outputs": [
    {
     "data": {
      "image/png": "[encoded data removed]",
      "text/plain": [
       "<Figure size 720x360 with 1 Axes>"
      ]
     },
     "metadata": {
      "needs_background": "light"
     },
     "output_type": "display_data"
    }
   ],
   "source": [
    "fig = plt.figure(figsize=(10,5))\n",
    "sns.kdeplot(df.Age)\n",
    "plt.show()"
   ]
  },
  {
   "cell_type": "markdown",
   "metadata": {},
   "source": [
    "Esta es una nueva celda que agregué recienm"
   ]
  }
 ],
 "metadata": {
  "kernelspec": {
   "display_name": "Python 3.8.6 64-bit",
   "language": "python",
   "name": "python3"
  },
  "language_info": {
   "codemirror_mode": {
    "name": "ipython",
    "version": 3
   },
   "file_extension": ".py",
   "mimetype": "text/x-python",
   "name": "python",
   "nbconvert_exporter": "python",
   "pygments_lexer": "ipython3",
   "version": "3.8.6"
  },
  "orig_nbformat": 4,
  "vscode": {
   "interpreter": {
    "hash": "addbcabcdc14e665626673a6e34e0469951391452630deb60d28a5e90a2a044e"
   }
  }
 },
 "nbformat": 4,
 "nbformat_minor": 2
}
