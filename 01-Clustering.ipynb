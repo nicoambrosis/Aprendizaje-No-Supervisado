{
 "cells": [
  {
   "cell_type": "code",
   "execution_count": null,
   "metadata": {},
   "outputs": [],
   "source": [
    "# import numpy as np\n",
    "import pandas as np\n",
    "# pd.set_option('display.max_columns', 100)\n",
    "# pd.set_option('display.max_rows', 1000)\n",
    "# import itertools\n",
    "# import warnings\n",
    "# warnings.filterwarnings('ignore')\n",
    "# import io\n",
    "\n",
    "# from plotly.offline import init_notebook_mode, plot, iplot\n",
    "# import plotly.graph_objs as go\n",
    "# # init_notebook_mode(connected=True)\n",
    "# import matplotlib.pyplot as plt\n",
    "# import plotly.tools as tls\n",
    "# import plotly.figure_factory as ff\n",
    "# import seaborn as sns"
   ]
  },
  {
   "cell_type": "markdown",
   "metadata": {},
   "source": [
    "# 1. Análisis exploratorio\n",
    "Cargamos los datos bajados de la database de [Kaggle](https://www.kaggle.com/karangadiya/fifa19) (https://www.kaggle.com/karangadiya/fifa19) como 'data.csv' "
   ]
  },
  {
   "cell_type": "code",
   "execution_count": null,
   "metadata": {},
   "outputs": [],
   "source": [
    "url='https://raw.githubusercontent.com/DiploDatos/AprendizajeNOSupervisado/master/2021/data.csv'\n",
    "df = pd.read_csv(url, usecols=lambda x: x != 'Unnamed: 0')\n",
    "df.sample(5)"
   ]
  },
  {
   "cell_type": "code",
   "execution_count": null,
   "metadata": {},
   "outputs": [],
   "source": [
    "df.shape"
   ]
  },
  {
   "cell_type": "code",
   "execution_count": null,
   "metadata": {},
   "outputs": [],
   "source": [
    "df.columns"
   ]
  },
  {
   "cell_type": "code",
   "execution_count": null,
   "metadata": {},
   "outputs": [],
   "source": [
    "fig = plt.figure(figsize=(10,5))\n",
    "sns.kdeplot(df.Age)\n",
    "plt.show()"
   ]
  },
  {
   "cell_type": "code",
   "execution_count": null,
   "metadata": {},
   "outputs": [],
   "source": [
    "fig = plt.figure(figsize=(10,5))\n",
    "sns.kdeplot(df.Agility)\n",
    "plt.show()"
   ]
  },
  {
   "cell_type": "code",
   "execution_count": null,
   "metadata": {},
   "outputs": [],
   "source": [
    "fig = plt.figure(figsize=(10,5))\n",
    "sns.histplot(df.Agility)\n",
    "plt.show()"
   ]
  },
  {
   "cell_type": "code",
   "execution_count": null,
   "metadata": {},
   "outputs": [],
   "source": [
    "(df\n",
    " .groupby('Nationality')\n",
    " .agg('count')['ID']\n",
    " .to_frame() \n",
    " .sort_values(by='ID', ascending=False)\n",
    " )"
   ]
  },
  {
   "cell_type": "code",
   "execution_count": null,
   "metadata": {},
   "outputs": [],
   "source": [
    "nbins = int(df.Crossing.max()-df.Crossing.min() + 1)\n",
    "\n",
    "fig = plt.figure(figsize=(10,5))\n",
    "sns.histplot(df.Crossing, bins=nbins)\n",
    "plt.show()"
   ]
  },
  {
   "cell_type": "code",
   "execution_count": null,
   "metadata": {},
   "outputs": [],
   "source": [
    "nbins = int(df.Crossing.max()-df.Crossing.min() + 1)\n",
    "\n",
    "fig = plt.figure(figsize=(10,5))\n",
    "sns.kdeplot(df.Crossing, hue = df['Preferred Foot'])\n",
    "plt.show()"
   ]
  },
  {
   "cell_type": "markdown",
   "metadata": {},
   "source": [
    "#### Mejores jugadores por posición"
   ]
  },
  {
   "cell_type": "code",
   "execution_count": null,
   "metadata": {},
   "outputs": [],
   "source": [
    "(df\n",
    " .iloc[df.groupby(df['Position'])['Overall']\n",
    "       .idxmax()]\n",
    " [['Position','Name','Overall']]\n",
    " .sort_values(by = 'Overall', ascending=False)\n",
    " .head(10)\n",
    " )"
   ]
  },
  {
   "cell_type": "markdown",
   "metadata": {},
   "source": [
    "# 2. Preparación de los datos a analizar"
   ]
  },
  {
   "cell_type": "markdown",
   "metadata": {},
   "source": [
    "Reducimos el tamaño de la base. Retiramos jugadores con bajo Desempeño global (\"Overall\"),\n",
    "\n",
    "y consideramos Variables de desempeño por habilidad (skills_ratings)"
   ]
  },
  {
   "cell_type": "code",
   "execution_count": null,
   "metadata": {},
   "outputs": [],
   "source": [
    "n=10000 #cantidad de jugadores a considerar\n",
    "df_n=df.loc[:n] #se reduce la base a los n primeros jugadores\n",
    "df_n.shape"
   ]
  },
  {
   "cell_type": "code",
   "execution_count": null,
   "metadata": {},
   "outputs": [],
   "source": [
    "df_n=df_n[(df_n['Overall']>70)]\n",
    "df_n.shape"
   ]
  },
  {
   "cell_type": "markdown",
   "metadata": {},
   "source": [
    "Se crea el jugador perfecto y el jugador promedio para ver a donde se ubican en nuestras visualizaciónes"
   ]
  },
  {
   "cell_type": "code",
   "execution_count": null,
   "metadata": {},
   "outputs": [],
   "source": [
    "skills_ratings = ['Crossing', 'Finishing', 'HeadingAccuracy', 'ShortPassing',\n",
    "                  'Volleys', 'Dribbling', 'Curve', 'FKAccuracy', 'LongPassing',\n",
    "                  'BallControl', 'Acceleration', 'SprintSpeed', 'Agility', 'Reactions',\n",
    "                  'Balance', 'ShotPower', 'Jumping', 'Stamina', 'Strength', 'LongShots',\n",
    "                  'Aggression', 'Interceptions', 'Positioning', 'Vision', 'Penalties', \n",
    "                  'Composure', 'Marking', 'StandingTackle', 'SlidingTackle',\n",
    "                  'GKDiving', 'GKHandling', 'GKKicking', 'GKPositioning', 'GKReflexes']\n",
    "\n",
    "MachineGunDict = {'Name':'MachineGun',\n",
    "                  'Overall':99}\n",
    "\n",
    "for skill in skills_ratings:\n",
    "    MachineGunDict[skill] = 99\n",
    "MachineGunDict"
   ]
  },
  {
   "cell_type": "code",
   "execution_count": null,
   "metadata": {},
   "outputs": [],
   "source": [
    "# agregamos al jugador perfecto a nuestros datos\n",
    "df_n = df_n.append(MachineGunDict,ignore_index=True)\n",
    "df_n.tail()"
   ]
  },
  {
   "cell_type": "code",
   "execution_count": null,
   "metadata": {},
   "outputs": [],
   "source": []
  },
  {
   "cell_type": "code",
   "execution_count": null,
   "metadata": {},
   "outputs": [],
   "source": []
  },
  {
   "cell_type": "code",
   "execution_count": null,
   "metadata": {},
   "outputs": [],
   "source": []
  }
 ],
 "metadata": {
  "kernelspec": {
   "display_name": "Python 3.8.6 64-bit",
   "language": "python",
   "name": "python3"
  },
  "language_info": {
   "codemirror_mode": {
    "name": "ipython",
    "version": 3
   },
   "file_extension": ".py",
   "mimetype": "text/x-python",
   "name": "python",
   "nbconvert_exporter": "python",
   "pygments_lexer": "ipython3",
   "version": "3.8.6"
  },
  "orig_nbformat": 4,
  "vscode": {
   "interpreter": {
    "hash": "addbcabcdc14e665626673a6e34e0469951391452630deb60d28a5e90a2a044e"
   }
  }
 },
 "nbformat": 4,
 "nbformat_minor": 2
}
